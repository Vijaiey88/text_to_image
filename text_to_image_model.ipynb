{
 "cells": [
  {
   "cell_type": "code",
   "execution_count": 1,
   "id": "d98ddfd4-233d-4b6e-9963-833f6e29033a",
   "metadata": {},
   "outputs": [
    {
     "name": "stdout",
     "output_type": "stream",
     "text": [
      "Defaulting to user installation because normal site-packages is not writeableNote: you may need to restart the kernel to use updated packages.\n",
      "\n",
      "Requirement already satisfied: torch in c:\\users\\inbar\\appdata\\local\\packages\\pythonsoftwarefoundation.python.3.12_qbz5n2kfra8p0\\localcache\\local-packages\\python312\\site-packages (2.4.0)\n",
      "Collecting torchvision\n",
      "  Downloading torchvision-0.19.1-cp312-cp312-win_amd64.whl.metadata (6.1 kB)\n",
      "Collecting diffusers\n",
      "  Downloading diffusers-0.30.3-py3-none-any.whl.metadata (18 kB)\n",
      "Requirement already satisfied: transformers in c:\\users\\inbar\\appdata\\local\\packages\\pythonsoftwarefoundation.python.3.12_qbz5n2kfra8p0\\localcache\\local-packages\\python312\\site-packages (4.44.2)\n",
      "Requirement already satisfied: filelock in c:\\users\\inbar\\appdata\\local\\packages\\pythonsoftwarefoundation.python.3.12_qbz5n2kfra8p0\\localcache\\local-packages\\python312\\site-packages (from torch) (3.15.4)\n",
      "Requirement already satisfied: typing-extensions>=4.8.0 in c:\\users\\inbar\\appdata\\local\\packages\\pythonsoftwarefoundation.python.3.12_qbz5n2kfra8p0\\localcache\\local-packages\\python312\\site-packages (from torch) (4.12.2)\n",
      "Requirement already satisfied: sympy in c:\\users\\inbar\\appdata\\local\\packages\\pythonsoftwarefoundation.python.3.12_qbz5n2kfra8p0\\localcache\\local-packages\\python312\\site-packages (from torch) (1.13.2)\n",
      "Requirement already satisfied: networkx in c:\\users\\inbar\\appdata\\local\\packages\\pythonsoftwarefoundation.python.3.12_qbz5n2kfra8p0\\localcache\\local-packages\\python312\\site-packages (from torch) (3.3)\n",
      "Requirement already satisfied: jinja2 in c:\\users\\inbar\\appdata\\local\\packages\\pythonsoftwarefoundation.python.3.12_qbz5n2kfra8p0\\localcache\\local-packages\\python312\\site-packages (from torch) (3.1.4)\n",
      "Requirement already satisfied: fsspec in c:\\users\\inbar\\appdata\\local\\packages\\pythonsoftwarefoundation.python.3.12_qbz5n2kfra8p0\\localcache\\local-packages\\python312\\site-packages (from torch) (2024.6.1)\n",
      "Requirement already satisfied: setuptools in c:\\users\\inbar\\appdata\\local\\packages\\pythonsoftwarefoundation.python.3.12_qbz5n2kfra8p0\\localcache\\local-packages\\python312\\site-packages (from torch) (72.0.0)\n",
      "Requirement already satisfied: numpy in c:\\users\\inbar\\appdata\\local\\packages\\pythonsoftwarefoundation.python.3.12_qbz5n2kfra8p0\\localcache\\local-packages\\python312\\site-packages (from torchvision) (1.26.4)\n",
      "Collecting torch\n",
      "  Downloading torch-2.4.1-cp312-cp312-win_amd64.whl.metadata (27 kB)\n",
      "Requirement already satisfied: pillow!=8.3.*,>=5.3.0 in c:\\users\\inbar\\appdata\\local\\packages\\pythonsoftwarefoundation.python.3.12_qbz5n2kfra8p0\\localcache\\local-packages\\python312\\site-packages (from torchvision) (10.4.0)\n",
      "Collecting importlib-metadata (from diffusers)\n",
      "  Downloading importlib_metadata-8.5.0-py3-none-any.whl.metadata (4.8 kB)\n",
      "Requirement already satisfied: huggingface-hub>=0.23.2 in c:\\users\\inbar\\appdata\\local\\packages\\pythonsoftwarefoundation.python.3.12_qbz5n2kfra8p0\\localcache\\local-packages\\python312\\site-packages (from diffusers) (0.24.6)\n",
      "Requirement already satisfied: regex!=2019.12.17 in c:\\users\\inbar\\appdata\\local\\packages\\pythonsoftwarefoundation.python.3.12_qbz5n2kfra8p0\\localcache\\local-packages\\python312\\site-packages (from diffusers) (2024.7.24)\n",
      "Requirement already satisfied: requests in c:\\users\\inbar\\appdata\\local\\packages\\pythonsoftwarefoundation.python.3.12_qbz5n2kfra8p0\\localcache\\local-packages\\python312\\site-packages (from diffusers) (2.32.3)\n",
      "Requirement already satisfied: safetensors>=0.3.1 in c:\\users\\inbar\\appdata\\local\\packages\\pythonsoftwarefoundation.python.3.12_qbz5n2kfra8p0\\localcache\\local-packages\\python312\\site-packages (from diffusers) (0.4.4)\n",
      "Requirement already satisfied: packaging>=20.0 in c:\\users\\inbar\\appdata\\local\\packages\\pythonsoftwarefoundation.python.3.12_qbz5n2kfra8p0\\localcache\\local-packages\\python312\\site-packages (from transformers) (24.1)\n",
      "Requirement already satisfied: pyyaml>=5.1 in c:\\users\\inbar\\appdata\\local\\packages\\pythonsoftwarefoundation.python.3.12_qbz5n2kfra8p0\\localcache\\local-packages\\python312\\site-packages (from transformers) (6.0.1)\n",
      "Requirement already satisfied: tokenizers<0.20,>=0.19 in c:\\users\\inbar\\appdata\\local\\packages\\pythonsoftwarefoundation.python.3.12_qbz5n2kfra8p0\\localcache\\local-packages\\python312\\site-packages (from transformers) (0.19.1)\n",
      "Requirement already satisfied: tqdm>=4.27 in c:\\users\\inbar\\appdata\\local\\packages\\pythonsoftwarefoundation.python.3.12_qbz5n2kfra8p0\\localcache\\local-packages\\python312\\site-packages (from transformers) (4.66.5)\n",
      "Requirement already satisfied: colorama in c:\\users\\inbar\\appdata\\local\\packages\\pythonsoftwarefoundation.python.3.12_qbz5n2kfra8p0\\localcache\\local-packages\\python312\\site-packages (from tqdm>=4.27->transformers) (0.4.6)\n",
      "Collecting zipp>=3.20 (from importlib-metadata->diffusers)\n",
      "  Downloading zipp-3.20.2-py3-none-any.whl.metadata (3.7 kB)\n",
      "Requirement already satisfied: MarkupSafe>=2.0 in c:\\users\\inbar\\appdata\\local\\packages\\pythonsoftwarefoundation.python.3.12_qbz5n2kfra8p0\\localcache\\local-packages\\python312\\site-packages (from jinja2->torch) (2.1.5)\n",
      "Requirement already satisfied: charset-normalizer<4,>=2 in c:\\users\\inbar\\appdata\\local\\packages\\pythonsoftwarefoundation.python.3.12_qbz5n2kfra8p0\\localcache\\local-packages\\python312\\site-packages (from requests->diffusers) (3.3.2)\n",
      "Requirement already satisfied: idna<4,>=2.5 in c:\\users\\inbar\\appdata\\local\\packages\\pythonsoftwarefoundation.python.3.12_qbz5n2kfra8p0\\localcache\\local-packages\\python312\\site-packages (from requests->diffusers) (3.7)\n",
      "Requirement already satisfied: urllib3<3,>=1.21.1 in c:\\users\\inbar\\appdata\\local\\packages\\pythonsoftwarefoundation.python.3.12_qbz5n2kfra8p0\\localcache\\local-packages\\python312\\site-packages (from requests->diffusers) (2.2.2)\n",
      "Requirement already satisfied: certifi>=2017.4.17 in c:\\users\\inbar\\appdata\\local\\packages\\pythonsoftwarefoundation.python.3.12_qbz5n2kfra8p0\\localcache\\local-packages\\python312\\site-packages (from requests->diffusers) (2024.7.4)\n",
      "Requirement already satisfied: mpmath<1.4,>=1.1.0 in c:\\users\\inbar\\appdata\\local\\packages\\pythonsoftwarefoundation.python.3.12_qbz5n2kfra8p0\\localcache\\local-packages\\python312\\site-packages (from sympy->torch) (1.3.0)\n",
      "Downloading torchvision-0.19.1-cp312-cp312-win_amd64.whl (1.3 MB)\n",
      "   ---------------------------------------- 0.0/1.3 MB ? eta -:--:--\n",
      "   ---------------------------------------- 1.3/1.3 MB 21.8 MB/s eta 0:00:00\n",
      "Downloading torch-2.4.1-cp312-cp312-win_amd64.whl (199.4 MB)\n",
      "   ---------------------------------------- 0.0/199.4 MB ? eta -:--:--\n",
      "   - -------------------------------------- 7.1/199.4 MB 33.4 MB/s eta 0:00:06\n",
      "   -- ------------------------------------- 13.9/199.4 MB 33.5 MB/s eta 0:00:06\n",
      "   ---- ----------------------------------- 21.0/199.4 MB 33.9 MB/s eta 0:00:06\n",
      "   ----- ---------------------------------- 28.3/199.4 MB 34.5 MB/s eta 0:00:05\n",
      "   ------- -------------------------------- 35.7/199.4 MB 34.3 MB/s eta 0:00:05\n",
      "   -------- ------------------------------- 43.0/199.4 MB 34.6 MB/s eta 0:00:05\n",
      "   ---------- ----------------------------- 50.6/199.4 MB 34.6 MB/s eta 0:00:05\n",
      "   ----------- ---------------------------- 57.4/199.4 MB 34.5 MB/s eta 0:00:05\n",
      "   ------------ --------------------------- 62.1/199.4 MB 33.3 MB/s eta 0:00:05\n",
      "   ------------- -------------------------- 67.1/199.4 MB 32.2 MB/s eta 0:00:05\n",
      "   -------------- ------------------------- 73.4/199.4 MB 32.1 MB/s eta 0:00:04\n",
      "   ---------------- ----------------------- 80.2/199.4 MB 32.2 MB/s eta 0:00:04\n",
      "   ----------------- ---------------------- 86.5/199.4 MB 31.9 MB/s eta 0:00:04\n",
      "   ------------------ --------------------- 91.8/199.4 MB 31.5 MB/s eta 0:00:04\n",
      "   ------------------- -------------------- 98.6/199.4 MB 31.5 MB/s eta 0:00:04\n",
      "   -------------------- ------------------ 104.1/199.4 MB 31.2 MB/s eta 0:00:04\n",
      "   --------------------- ----------------- 108.3/199.4 MB 30.6 MB/s eta 0:00:03\n",
      "   ---------------------- ---------------- 114.3/199.4 MB 30.4 MB/s eta 0:00:03\n",
      "   ----------------------- --------------- 120.8/199.4 MB 30.4 MB/s eta 0:00:03\n",
      "   ------------------------ -------------- 126.6/199.4 MB 30.4 MB/s eta 0:00:03\n",
      "   -------------------------- ------------ 133.2/199.4 MB 30.4 MB/s eta 0:00:03\n",
      "   --------------------------- ----------- 140.2/199.4 MB 30.6 MB/s eta 0:00:02\n",
      "   ---------------------------- ---------- 146.8/199.4 MB 30.6 MB/s eta 0:00:02\n",
      "   ------------------------------ -------- 153.9/199.4 MB 30.8 MB/s eta 0:00:02\n",
      "   ------------------------------- ------- 161.2/199.4 MB 31.0 MB/s eta 0:00:02\n",
      "   --------------------------------- ----- 169.1/199.4 MB 31.1 MB/s eta 0:00:01\n",
      "   ---------------------------------- ---- 175.6/199.4 MB 31.3 MB/s eta 0:00:01\n",
      "   ----------------------------------- --- 180.6/199.4 MB 30.9 MB/s eta 0:00:01\n",
      "   ------------------------------------ -- 185.3/199.4 MB 30.6 MB/s eta 0:00:01\n",
      "   ------------------------------------- - 191.6/199.4 MB 30.6 MB/s eta 0:00:01\n",
      "   --------------------------------------  198.2/199.4 MB 30.7 MB/s eta 0:00:01\n",
      "   --------------------------------------  199.2/199.4 MB 30.7 MB/s eta 0:00:01\n",
      "   --------------------------------------  199.2/199.4 MB 30.7 MB/s eta 0:00:01\n",
      "   --------------------------------------  199.2/199.4 MB 30.7 MB/s eta 0:00:01\n",
      "   --------------------------------------- 199.4/199.4 MB 28.0 MB/s eta 0:00:00\n",
      "Downloading diffusers-0.30.3-py3-none-any.whl (2.7 MB)\n",
      "   ---------------------------------------- 0.0/2.7 MB ? eta -:--:--\n",
      "   ---------------------------------------- 2.7/2.7 MB 25.5 MB/s eta 0:00:00\n",
      "Downloading importlib_metadata-8.5.0-py3-none-any.whl (26 kB)\n",
      "Downloading zipp-3.20.2-py3-none-any.whl (9.2 kB)\n",
      "Installing collected packages: zipp, torch, importlib-metadata, torchvision, diffusers\n",
      "  Attempting uninstall: torch\n",
      "    Found existing installation: torch 2.4.0\n",
      "    Uninstalling torch-2.4.0:\n",
      "      Successfully uninstalled torch-2.4.0\n",
      "Successfully installed diffusers-0.30.3 importlib-metadata-8.5.0 torch-2.4.1 torchvision-0.19.1 zipp-3.20.2\n"
     ]
    }
   ],
   "source": [
    "pip install torch torchvision diffusers transformers"
   ]
  },
  {
   "cell_type": "code",
   "execution_count": 2,
   "id": "6254ca13-2213-4031-8022-ba192167bfe0",
   "metadata": {},
   "outputs": [
    {
     "name": "stderr",
     "output_type": "stream",
     "text": [
      "C:\\Users\\inbar\\AppData\\Local\\Packages\\PythonSoftwareFoundation.Python.3.12_qbz5n2kfra8p0\\LocalCache\\local-packages\\Python312\\site-packages\\tqdm\\auto.py:21: TqdmWarning: IProgress not found. Please update jupyter and ipywidgets. See https://ipywidgets.readthedocs.io/en/stable/user_install.html\n",
      "  from .autonotebook import tqdm as notebook_tqdm\n"
     ]
    }
   ],
   "source": [
    "import torch\n",
    "from diffusers import StableDiffusionPipeline"
   ]
  },
  {
   "cell_type": "code",
   "execution_count": 3,
   "id": "b3f11e32-f644-4f13-bb94-082afe26cb52",
   "metadata": {},
   "outputs": [],
   "source": [
    "# Load the pre-trained Stable Diffusion model from Hugging Face\n",
    "model_id = \"runwayml/stable-diffusion-v1-5\"  # You can replace this with other stable diffusion models available"
   ]
  },
  {
   "cell_type": "code",
   "execution_count": 4,
   "id": "1920d097-8b8e-4976-bd4b-280a9e5c4dae",
   "metadata": {},
   "outputs": [],
   "source": [
    "# Enable GPU support if available\n",
    "device = \"cuda\" if torch.cuda.is_available() else \"cpu\""
   ]
  },
  {
   "cell_type": "code",
   "execution_count": 5,
   "id": "51833642-91d3-40e0-9ffc-47b9ba7c71ea",
   "metadata": {},
   "outputs": [
    {
     "name": "stderr",
     "output_type": "stream",
     "text": [
      "Cannot initialize model with low cpu memory usage because `accelerate` was not found in the environment. Defaulting to `low_cpu_mem_usage=False`. It is strongly recommended to install `accelerate` for faster and less memory-intense model loading. You can do so with: \n",
      "```\n",
      "pip install accelerate\n",
      "```\n",
      ".\n",
      "C:\\Users\\inbar\\AppData\\Local\\Packages\\PythonSoftwareFoundation.Python.3.12_qbz5n2kfra8p0\\LocalCache\\local-packages\\Python312\\site-packages\\huggingface_hub\\file_download.py:159: UserWarning: `huggingface_hub` cache-system uses symlinks by default to efficiently store duplicated files but your machine does not support them in C:\\Users\\inbar\\.cache\\huggingface\\hub\\models--runwayml--stable-diffusion-v1-5. Caching files will still work but in a degraded version that might require more space on your disk. This warning can be disabled by setting the `HF_HUB_DISABLE_SYMLINKS_WARNING` environment variable. For more details, see https://huggingface.co/docs/huggingface_hub/how-to-cache#limitations.\n",
      "To support symlinks on Windows, you either need to activate Developer Mode or to run Python as an administrator. In order to see activate developer mode, see this article: https://docs.microsoft.com/en-us/windows/apps/get-started/enable-your-device-for-development\n",
      "  warnings.warn(message)\n",
      "Fetching 15 files: 100%|███████████████████████████████████████████████████████████████| 15/15 [03:32<00:00, 14.13s/it]\n",
      "Loading pipeline components...:  43%|██████████████████████▎                             | 3/7 [00:01<00:01,  2.45it/s]C:\\Users\\inbar\\AppData\\Local\\Packages\\PythonSoftwareFoundation.Python.3.12_qbz5n2kfra8p0\\LocalCache\\local-packages\\Python312\\site-packages\\transformers\\tokenization_utils_base.py:1601: FutureWarning: `clean_up_tokenization_spaces` was not set. It will be set to `True` by default. This behavior will be depracted in transformers v4.45, and will be then set to `False` by default. For more details check this issue: https://github.com/huggingface/transformers/issues/31884\n",
      "  warnings.warn(\n",
      "Loading pipeline components...: 100%|████████████████████████████████████████████████████| 7/7 [00:12<00:00,  1.77s/it]\n"
     ]
    }
   ],
   "source": [
    "# Load the pipeline\n",
    "pipe = StableDiffusionPipeline.from_pretrained(model_id)\n",
    "pipe = pipe.to(device)"
   ]
  },
  {
   "cell_type": "code",
   "execution_count": 6,
   "id": "12d580bd-bf34-44c4-a79e-c69a77883a14",
   "metadata": {},
   "outputs": [
    {
     "name": "stderr",
     "output_type": "stream",
     "text": [
      "100%|██████████████████████████████████████████████████████████████████████████████████| 50/50 [16:48<00:00, 20.18s/it]\n"
     ]
    }
   ],
   "source": [
    "# Function to generate image based on text prompt\n",
    "def generate_image(prompt):\n",
    "    # Generate image based on the text prompt\n",
    "    image = pipe(prompt).images[0]\n",
    "    # Save or display the image\n",
    "    image.save(\"generated_image.png\")\n",
    "    image.show()\n",
    "\n",
    "# Example usage\n",
    "prompt = \"A futuristic cityscape at sunset, digital art\"\n",
    "generate_image(prompt)"
   ]
  },
  {
   "cell_type": "code",
   "execution_count": null,
   "id": "300b644f-2750-403a-88a8-94b14549f1d7",
   "metadata": {},
   "outputs": [],
   "source": []
  }
 ],
 "metadata": {
  "kernelspec": {
   "display_name": "Python 3 (ipykernel)",
   "language": "python",
   "name": "python3"
  },
  "language_info": {
   "codemirror_mode": {
    "name": "ipython",
    "version": 3
   },
   "file_extension": ".py",
   "mimetype": "text/x-python",
   "name": "python",
   "nbconvert_exporter": "python",
   "pygments_lexer": "ipython3",
   "version": "3.12.7"
  }
 },
 "nbformat": 4,
 "nbformat_minor": 5
}
